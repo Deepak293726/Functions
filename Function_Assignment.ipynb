{
  "nbformat": 4,
  "nbformat_minor": 0,
  "metadata": {
    "colab": {
      "provenance": []
    },
    "kernelspec": {
      "name": "python3",
      "display_name": "Python 3"
    },
    "language_info": {
      "name": "python"
    }
  },
  "cells": [
    {
      "cell_type": "markdown",
      "source": [
        "#Q1.What is the difference between a function and a method in Python?\n",
        " = Function: A block of code that performs a task and is defined using the def keyword. It can be called independently.\n",
        "\n",
        "Method: A function that is associated with an object and is called using dot notation (object.method()).\n",
        "\n",
        "# Function\n",
        "def greet():\n",
        "    return \"Hello\"\n",
        "\n",
        "# Method\n",
        "text = \"hello\"\n",
        "print(text.upper())\n"
      ],
      "metadata": {
        "id": "PcjIznG94HPN"
      }
    },
    {
      "cell_type": "markdown",
      "source": [
        "#Q2. Explain the concept of function arguments and parameters in Python?\n",
        " =Parameters are variables listed in the function definition.\n",
        "\n",
        "Arguments are the actual values passed to the function when it is called.\n",
        "\n",
        "def add(a, b):  # a and b are parameters\n",
        "\n",
        "    return a + b\n",
        "\n",
        "add(2, 3)  # 2 and 3 are arguments\n"
      ],
      "metadata": {
        "id": "rPksdL9l4S6K"
      }
    },
    {
      "cell_type": "markdown",
      "source": [
        "#Q3. What are the different ways to define and call a function in Python?\n",
        " =Define with def or lambda.\n",
        "\n",
        "Call using the function name and parentheses.\n",
        "\n",
        "def square(x):\n",
        "\n",
        "    return x * x\n",
        "\n",
        "print(square(4))  # Normal function\n",
        "\n",
        "# Lambda function\n",
        "cube = lambda x: x ** 3\n",
        "\n",
        "print(cube(3))\n"
      ],
      "metadata": {
        "id": "gDwMcSki4pev"
      }
    },
    {
      "cell_type": "markdown",
      "source": [
        "#Q4.What is the purpose of the `return` statement in a Python function?\n",
        " =The return statement sends the result back to the caller and ends the function execution.\n",
        "\n",
        " def multiply(a, b):\n",
        "\n",
        "    return a * b\n",
        "\n",
        "result = multiply(2, 5)\n"
      ],
      "metadata": {
        "id": "rSMh5AH_40ru"
      }
    },
    {
      "cell_type": "markdown",
      "source": [
        "#Q5.What are iterators in Python and how do they differ from iterables?\n",
        " =Iterable: An object that can return an iterator (e.g., list, tuple).\n",
        "\n",
        "Iterator: An object with __iter__() and __next__() methods that iterates over data.\n",
        "\n",
        "my_list = [1, 2, 3]\n",
        "\n",
        "it = iter(my_list)  # `it` is an iterator\n",
        "\n",
        "print(next(it))  # Outputs: 1\n"
      ],
      "metadata": {
        "id": "TqUFpfO55IZ2"
      }
    },
    {
      "cell_type": "markdown",
      "source": [
        "#Q6. Explain the concept of generators in Python and how they are defined?\n",
        " =Generators are iterators that yield items one at a time using the yield keyword. They're defined like functions but use yield instead of return.\n",
        "\n",
        " def gen_numbers():\n",
        "\n",
        "    for i in range(3):\n",
        "    \n",
        "        yield i\n"
      ],
      "metadata": {
        "id": "VThLS_Ju5TLY"
      }
    },
    {
      "cell_type": "markdown",
      "source": [
        "#Q7. What are the advantages of using generators over regular functions?\n",
        " =Memory efficient: They yield items one by one.\n",
        "\n",
        "Faster execution for large datasets.\n",
        "\n",
        "Pause and resume capability with yield.\n",
        "\n",
        "def countdown(n):\n",
        "\n",
        "    while n > 0:\n",
        "\n",
        "        yield n\n",
        "\n",
        "        n -= 1\n"
      ],
      "metadata": {
        "id": "ibF21V0o52iz"
      }
    },
    {
      "cell_type": "markdown",
      "source": [
        "#Q8.What is a lambda function in Python and when is it typically used?\n",
        " =A lambda is an anonymous function defined with the lambda keyword, typically used for short, throwaway functions.\n",
        "\n",
        " square = lambda x: x * x\n",
        "\n",
        "print(square(5))  # Output: 25\n"
      ],
      "metadata": {
        "id": "ekqJYXmJ6DAZ"
      }
    },
    {
      "cell_type": "markdown",
      "source": [
        "#Q9. Explain the purpose and usage of the `map()` function in Python?\n",
        " =map() applies a given function to all items in an iterable and returns a map object.\n",
        "\n",
        " nums = [1, 2, 3]\n",
        "\n",
        "squared = list(map(lambda x: x ** 2, nums))\n"
      ],
      "metadata": {
        "id": "Yz8YRg3B6MCL"
      }
    },
    {
      "cell_type": "markdown",
      "source": [
        "#Q10.What is the difference between `map()`, `reduce()`, and `filter()` functions in Python?\n",
        "\n",
        " =map(): Applies a function to each item.\n",
        "\n",
        "filter(): Filters items based on a condition.\n",
        "\n",
        "reduce(): Applies a function cumulatively to reduce to a single value.\n",
        "\n",
        "from functools import reduce\n",
        "\n",
        "nums = [1, 2, 3, 4]\n",
        "\n",
        "map_result = list(map(lambda x: x * 2, nums))       # [2, 4, 6, 8]\n",
        "\n",
        "filter_result = list(filter(lambda x: x % 2 == 0, nums))  # [2, 4]\n",
        "\n",
        "reduce_result = reduce(lambda x, y: x + y, nums)    # 10\n"
      ],
      "metadata": {
        "id": "gW9jVSQM6W-x"
      }
    },
    {
      "cell_type": "markdown",
      "source": [
        "#Q11.Using pen & Paper write the internal mechanism for sum operation using  reduce function on this given\n",
        "list:[47,11,42,13];\n",
        "\n",
        " =from functools import reduce\n",
        "\n",
        "reduce(lambda x, y: x + y, [47, 11, 42, 13])\n",
        "\n",
        "# Step 1: 47 + 11 = 58\n",
        "# Step 2: 58 + 42 = 100\n",
        "# Step 3: 100 + 13 = 113\n"
      ],
      "metadata": {
        "id": "0N9gF2_67APo"
      }
    },
    {
      "cell_type": "code",
      "source": [
        "#Q1.Write a Python function that takes a list of numbers as input and returns the sum of all even numbers in the list?\n",
        "def sum_even_numbers(numbers):\n",
        "    return sum(num for num in numbers if num % 2 == 0)\n",
        "\n",
        "\n",
        "# Example:\n",
        "print(sum_even_numbers([1, 2, 3, 4, 5, 6]))\n"
      ],
      "metadata": {
        "colab": {
          "base_uri": "https://localhost:8080/"
        },
        "id": "3fwa5kJ1-Dba",
        "outputId": "7996e23d-714a-479d-cb92-c965b853f7e3"
      },
      "execution_count": 16,
      "outputs": [
        {
          "output_type": "stream",
          "name": "stdout",
          "text": [
            "12\n"
          ]
        }
      ]
    },
    {
      "cell_type": "code",
      "source": [
        "#Q2. Create a Python function that accepts a string and returns the reverse of that string?\n",
        "def reverse_string(s):\n",
        "    return s[::-1]\n",
        "\n",
        "\n",
        "print(reverse_string(\"hello\"))"
      ],
      "metadata": {
        "colab": {
          "base_uri": "https://localhost:8080/"
        },
        "id": "keh9671j-8I0",
        "outputId": "38647b68-1ece-466b-dc55-d0f730d72ab0"
      },
      "execution_count": 17,
      "outputs": [
        {
          "output_type": "stream",
          "name": "stdout",
          "text": [
            "olleh\n"
          ]
        }
      ]
    },
    {
      "cell_type": "code",
      "source": [
        "#Q3. Implement a Python function that takes a list of integers and returns a new list containing the squares of each number?\n",
        "def square_list(numbers):\n",
        "    return [x ** 2 for x in numbers]\n",
        "\n",
        "\n",
        "print(square_list([1, 2, 3]))\n"
      ],
      "metadata": {
        "colab": {
          "base_uri": "https://localhost:8080/"
        },
        "id": "reweiISh_G2L",
        "outputId": "ff881235-ebe9-4d20-db00-fe69a82bcb8f"
      },
      "execution_count": 19,
      "outputs": [
        {
          "output_type": "stream",
          "name": "stdout",
          "text": [
            "[1, 4, 9]\n"
          ]
        }
      ]
    },
    {
      "cell_type": "code",
      "source": [
        "#Q4.. Write a Python function that checks if a given number is prime or not from 1 to 200?\n",
        "def is_prime(n):\n",
        "    if n <= 1:\n",
        "        return False\n",
        "    for i in range(2, int(n**0.5)+1):\n",
        "        if n % i == 0:\n",
        "            return False\n",
        "    return True\n",
        "\n",
        "# Print primes from 1 to 200\n",
        "primes = [i for i in range(1, 201) if is_prime(i)]\n",
        "print(primes)\n"
      ],
      "metadata": {
        "colab": {
          "base_uri": "https://localhost:8080/"
        },
        "id": "O1NypaTQ_aNd",
        "outputId": "a01fc46d-0466-4802-ea34-470d50aafa58"
      },
      "execution_count": 10,
      "outputs": [
        {
          "output_type": "stream",
          "name": "stdout",
          "text": [
            "[2, 3, 5, 7, 11, 13, 17, 19, 23, 29, 31, 37, 41, 43, 47, 53, 59, 61, 67, 71, 73, 79, 83, 89, 97, 101, 103, 107, 109, 113, 127, 131, 137, 139, 149, 151, 157, 163, 167, 173, 179, 181, 191, 193, 197, 199]\n"
          ]
        }
      ]
    },
    {
      "cell_type": "code",
      "source": [
        "#Q5.Create an iterator class in Python that generates the Fibonacci sequence up to a specified number of terms?\n",
        "class FibonacciIterator:\n",
        "    def __init__(self, max_terms):\n",
        "        self.max_terms = max_terms\n",
        "        self.count = 0\n",
        "        self.a, self.b = 0, 1\n",
        "\n",
        "    def __iter__(self):\n",
        "        return self\n",
        "\n",
        "    def __next__(self):\n",
        "        if self.count >= self.max_terms:\n",
        "            raise StopIteration\n",
        "        value = self.a\n",
        "        self.a, self.b = self.b, self.a + self.b\n",
        "        self.count += 1\n",
        "        return value\n",
        "\n",
        "fib = FibonacciIterator(10)\n",
        "for num in fib:\n",
        "    print(num)"
      ],
      "metadata": {
        "colab": {
          "base_uri": "https://localhost:8080/"
        },
        "id": "M9BHjR76_lkZ",
        "outputId": "a2168aec-b55c-483f-8a47-70de89e26ccf"
      },
      "execution_count": 20,
      "outputs": [
        {
          "output_type": "stream",
          "name": "stdout",
          "text": [
            "0\n",
            "1\n",
            "1\n",
            "2\n",
            "3\n",
            "5\n",
            "8\n",
            "13\n",
            "21\n",
            "34\n"
          ]
        }
      ]
    },
    {
      "cell_type": "code",
      "source": [
        "#Q6.Write a generator function in Python that yields the powers of 2 up to a given exponent?\n",
        "def powers_of_two(limit):\n",
        "    for i in range(limit + 1):\n",
        "        yield 2 ** i\n",
        "\n",
        "for power in powers_of_two(5):\n",
        "    print(power)\n"
      ],
      "metadata": {
        "colab": {
          "base_uri": "https://localhost:8080/"
        },
        "id": "Xxy9Y1RA_zhU",
        "outputId": "5df11bed-fb3b-4475-a838-02c400633248"
      },
      "execution_count": 21,
      "outputs": [
        {
          "output_type": "stream",
          "name": "stdout",
          "text": [
            "1\n",
            "2\n",
            "4\n",
            "8\n",
            "16\n",
            "32\n"
          ]
        }
      ]
    },
    {
      "cell_type": "code",
      "source": [
        "#Q7. Implement a generator function that reads a file line by line and yields each line as a string?\n",
        "def read_file_lines(filename):\n",
        "    with open(filename, 'r') as file:\n",
        "        for line in file:\n",
        "            yield line.strip()\n"
      ],
      "metadata": {
        "id": "1oRrJbzLAEP_"
      },
      "execution_count": 14,
      "outputs": []
    },
    {
      "cell_type": "code",
      "source": [
        "#Q8.Use a lambda function in Python to sort a list of tuples based on the second element of each tuple?\n",
        "data = [(1, 3), (2, 1), (4, 2)]\n",
        "sorted_data = sorted(data, key=lambda x: x[1])\n",
        "print(sorted_data)  # Output: [(2, 1), (4, 2), (1, 3)]\n",
        "\n",
        "\n"
      ],
      "metadata": {
        "colab": {
          "base_uri": "https://localhost:8080/"
        },
        "id": "B_qBNd8aAb_t",
        "outputId": "5cb854d0-ae36-4865-982a-777069cc207a"
      },
      "execution_count": 15,
      "outputs": [
        {
          "output_type": "stream",
          "name": "stdout",
          "text": [
            "[(2, 1), (4, 2), (1, 3)]\n"
          ]
        }
      ]
    },
    {
      "cell_type": "code",
      "source": [
        "#Q9. Write a Python program that uses `map()` to convert a list of temperatures from Celsius to Fahrenheit?\n",
        "celsius = [0, 20, 37, 100]\n",
        "fahrenheit = list(map(lambda c: (c * 9/5) + 32, celsius))\n",
        "print(fahrenheit)  # Output: [32.0, 68.0, 98.6, 212.0]\n"
      ],
      "metadata": {
        "colab": {
          "base_uri": "https://localhost:8080/"
        },
        "id": "7j4sXJ6yAlNe",
        "outputId": "1dc60398-96bf-42d7-f48e-39ade2a160f9"
      },
      "execution_count": 22,
      "outputs": [
        {
          "output_type": "stream",
          "name": "stdout",
          "text": [
            "[32.0, 68.0, 98.6, 212.0]\n"
          ]
        }
      ]
    },
    {
      "cell_type": "code",
      "source": [
        "#Q10. Create a Python program that uses `filter()` to remove all the vowels from a given string?\n",
        "def remove_vowels(s):\n",
        "    return ''.join(filter(lambda ch: ch.lower() not in 'aeiou', s))\n",
        "\n",
        "# Example:\n",
        "print(remove_vowels(\"Beautiful\"))\n"
      ],
      "metadata": {
        "colab": {
          "base_uri": "https://localhost:8080/"
        },
        "id": "5bPEUxjXBZDK",
        "outputId": "2c0eb566-4ce0-4c55-dd7c-1acf879b418b"
      },
      "execution_count": 23,
      "outputs": [
        {
          "output_type": "stream",
          "name": "stdout",
          "text": [
            "Btfl\n"
          ]
        }
      ]
    },
    {
      "cell_type": "code",
      "source": [
        "#Q11.Imagine an accounting routine used in a book shop. It works on a list with sublists, which look like this?\n",
        "orders = [\n",
        "    [34587, 'Learning Python', 4, 40.95],\n",
        "    [98762, 'Programming Java', 5, 10.5],\n",
        "    [77226, 'DSA Made Easy', 3, 90.0],\n",
        "    [88112, 'AI for Beginners', 2, 56.0]\n",
        "]\n",
        "\n",
        "result = list(map(lambda x: (x[0], x[2]*x[3] if x[2]*x[3] >= 100 else x[2]*x[3] + 10), orders))\n",
        "print(result)\n"
      ],
      "metadata": {
        "colab": {
          "base_uri": "https://localhost:8080/"
        },
        "id": "khqlChGCBj-2",
        "outputId": "e68949a8-83d0-4352-d47d-6c571bfab404"
      },
      "execution_count": 24,
      "outputs": [
        {
          "output_type": "stream",
          "name": "stdout",
          "text": [
            "[(34587, 163.8), (98762, 62.5), (77226, 270.0), (88112, 112.0)]\n"
          ]
        }
      ]
    }
  ]
}